{
 "cells": [
  {
   "cell_type": "code",
   "execution_count": 11,
   "metadata": {},
   "outputs": [],
   "source": [
    "import os,json\n",
    "import numpy as np\n",
    "from keras.callbacks import ModelCheckpoint\n",
    "from keras.layers import Dense, Dropout, Flatten, Input, Conv1D,MaxPooling1D,Embedding\n",
    "from keras.models import load_model, Model\n",
    "from keras.utils import to_categorical\n",
    "from sklearn.metrics import classification_report\n",
    "import pandas as pd\n",
    "import sqlalchemy as sa\n",
    "from sklearn.metrics.pairwise import cosine_similarity\n",
    "from sklearn.feature_extraction.text import TfidfVectorizer\n",
    "import re\n",
    "from sklearn.metrics.pairwise import cosine_similarity\n",
    "from collections import Counter\n",
    "\n",
    "\n",
    "user = 'dev_ds'\n",
    "pwd = 'akBefvuIj4'\n",
    "from base64 import b64decode\n",
    "conn_str = 'mssql+pyodbc://%s:%s@repdb1irv.iherb.net/iHerb_Shop?driver=ODBC+Driver+13+for+SQL+Server'\n",
    "engine = sa.create_engine(conn_str % ('dev_ds', b64decode('YWtCZWZ2dUlqNA==').decode()))"
   ]
  },
  {
   "cell_type": "code",
   "execution_count": 12,
   "metadata": {},
   "outputs": [
    {
     "name": "stdout",
     "output_type": "stream",
     "text": [
      "30070\n",
      "30069\n"
     ]
    }
   ],
   "source": [
    "p='inventoryvelocity'\n",
    "query3='''\n",
    "SELECT A.ProductID as ProductID, A.ParentCategoryID as CategoryID, B.level as level, B.d as d, B.Name as Name \n",
    "FROM `inventoryvelocity.input.product_parent_categories_relation` AS A\n",
    "Inner join `rec-serv.AutoSuggestion.category_data` AS B on A.ParentCategoryID=B.CategoryID \n",
    "Where B.VisibleToCustomer=True and B.CategoryID not in (1475,1855,2089,2203,2236,2320,2992,3213,100477,100483,2430,2493,2465)\n",
    "'''\n",
    "products_OldCategories=pd.read_gbq(query3,p,dialect='standard')\n",
    "\n",
    "product_attr = pd.read_sql(''' \n",
    "SELECT [ProductID]\n",
    "      ,[DisplayName]\n",
    "      ,[Ingredients]\n",
    "      ,[Description]\n",
    "      ,[SupplementFacts]\n",
    "      ,[ServingSize]\n",
    "      ,[PackageQuantity]\n",
    "      ,[SuggestedUse]\n",
    "      ,[Keywords]\n",
    "  FROM [iHerb_Shop].[shopservice].[TBL_Products]\n",
    "  where Status in (0,3,4,6)\n",
    "''', engine)\n",
    "product_attr.set_index('ProductID' , inplace=True)\n",
    "print(len(product_attr))\n",
    "products_OldCategories=products_OldCategories[products_OldCategories['ProductID'].isin(product_attr.index.values)]\n",
    "print(products_OldCategories['ProductID'].nunique())"
   ]
  },
  {
   "cell_type": "code",
   "execution_count": 13,
   "metadata": {},
   "outputs": [],
   "source": [
    "query1='''\n",
    "SELECT * FROM [rec-serv:AutoSuggestion.category_data] \n",
    "'''\n",
    "category_data=pd.read_gbq(query1,p)\n",
    "category_data.set_index('CategoryID' , inplace=True)\n",
    "\n"
   ]
  },
  {
   "cell_type": "code",
   "execution_count": 14,
   "metadata": {},
   "outputs": [],
   "source": [
    "tf=TfidfVectorizer(analyzer='word',ngram_range=(1,3),min_df=0, stop_words='english')\n",
    "tf.fit(product_attr['DisplayName'])\n",
    "tfidf_matrix_allProducts=tf.transform(product_attr['DisplayName'])\n",
    "cosine_similarities=np.zeros((tfidf_matrix_allProducts.shape[0],tfidf_matrix_allProducts.shape[0]))\n",
    "cosine_similarities=np.asarray(cosine_similarity(tfidf_matrix_allProducts,tfidf_matrix_allProducts))"
   ]
  },
  {
   "cell_type": "code",
   "execution_count": 15,
   "metadata": {},
   "outputs": [],
   "source": [
    "product_similarities=pd.DataFrame(cosine_similarities, index=product_attr.index.values.tolist(),columns=product_attr.index.values.tolist())\n",
    "product_similar_dict = dict()\n",
    "for product in product_attr.index.tolist():\n",
    "    product_similar_dict[product] = product_similarities.loc[product].sort_values(ascending=False).index.tolist()[1:11]"
   ]
  },
  {
   "cell_type": "code",
   "execution_count": 16,
   "metadata": {},
   "outputs": [
    {
     "name": "stdout",
     "output_type": "stream",
     "text": [
      "ProductID     29536\n",
      "CategoryID     1462\n",
      "level             1\n",
      "d              1462\n",
      "Name           1462\n",
      "dtype: int64\n"
     ]
    }
   ],
   "source": [
    "print(products_OldCategories[products_OldCategories['level']==1].nunique())\n",
    "products_level0=products_OldCategories[products_OldCategories['level']==0]\n",
    "products_level1=products_OldCategories[products_OldCategories['level']==1]\n",
    "products_level2=products_OldCategories[products_OldCategories['level']==2]\n",
    "products_level3=products_OldCategories[products_OldCategories['level']==3]\n",
    "products_level4=products_OldCategories[products_OldCategories['level']==4]\n",
    "products_level5=products_OldCategories[products_OldCategories['level']==5]\n"
   ]
  },
  {
   "cell_type": "code",
   "execution_count": 17,
   "metadata": {},
   "outputs": [],
   "source": [
    "def find_category(p,products_level):\n",
    "    if p in products_level['ProductID'].values.tolist():\n",
    "        df=products_level[products_level['ProductID']==p]\n",
    "        return df['CategoryID'].values.tolist()\n",
    "    else:\n",
    "        return [0]\n",
    "    "
   ]
  },
  {
   "cell_type": "code",
   "execution_count": 18,
   "metadata": {},
   "outputs": [],
   "source": [
    "extra_level0_products=[i for i in product_attr.index.values if i not in products_level0['ProductID'].values.tolist()]\n",
    "extra_level1_products=[i for i in product_attr.index.values if i not in products_level1['ProductID'].values.tolist()]\n",
    "extra_level2_products=[i for i in product_attr.index.values if i not in products_level2['ProductID'].values.tolist()]\n",
    "extra_level3_products=[i for i in product_attr.index.values if i not in products_level3['ProductID'].values.tolist()]\n",
    "extra_level4_products=[i for i in product_attr.index.values if i not in products_level4['ProductID'].values.tolist()]\n",
    "extra_level5_products=[i for i in product_attr.index.values if i not in products_level5['ProductID'].values.tolist()]"
   ]
  },
  {
   "cell_type": "code",
   "execution_count": 9,
   "metadata": {},
   "outputs": [
    {
     "name": "stdout",
     "output_type": "stream",
     "text": [
      "64\n"
     ]
    },
    {
     "ename": "NameError",
     "evalue": "name 'product_similar_dict' is not defined",
     "output_type": "error",
     "traceback": [
      "\u001b[1;31m---------------------------------------------------------------------------\u001b[0m",
      "\u001b[1;31mNameError\u001b[0m                                 Traceback (most recent call last)",
      "\u001b[1;32m<ipython-input-9-8a63294cfd03>\u001b[0m in \u001b[0;36m<module>\u001b[1;34m()\u001b[0m\n\u001b[0;32m      1\u001b[0m \u001b[1;32mfor\u001b[0m \u001b[0mproduct\u001b[0m \u001b[1;32min\u001b[0m \u001b[0mextra_level1_products\u001b[0m\u001b[1;33m:\u001b[0m\u001b[1;33m\u001b[0m\u001b[0m\n\u001b[0;32m      2\u001b[0m     \u001b[0mprint\u001b[0m\u001b[1;33m(\u001b[0m\u001b[0mproduct\u001b[0m\u001b[1;33m)\u001b[0m\u001b[1;33m\u001b[0m\u001b[0m\n\u001b[1;32m----> 3\u001b[1;33m     \u001b[0mnested_categories\u001b[0m\u001b[1;33m=\u001b[0m \u001b[1;33m[\u001b[0m\u001b[0mfind_category\u001b[0m\u001b[1;33m(\u001b[0m\u001b[0mx\u001b[0m\u001b[1;33m,\u001b[0m\u001b[0mproducts_level1\u001b[0m\u001b[1;33m)\u001b[0m \u001b[1;32mfor\u001b[0m \u001b[0mx\u001b[0m \u001b[1;32min\u001b[0m \u001b[0mproduct_similar_dict\u001b[0m\u001b[1;33m[\u001b[0m\u001b[0mproduct\u001b[0m\u001b[1;33m]\u001b[0m\u001b[1;33m]\u001b[0m\u001b[1;33m\u001b[0m\u001b[0m\n\u001b[0m\u001b[0;32m      4\u001b[0m     \u001b[0mflat_categories\u001b[0m \u001b[1;33m=\u001b[0m \u001b[1;33m[\u001b[0m\u001b[0mitem\u001b[0m \u001b[1;32mfor\u001b[0m \u001b[0msublist\u001b[0m \u001b[1;32min\u001b[0m \u001b[0mnested_categories\u001b[0m \u001b[1;32mfor\u001b[0m \u001b[0mitem\u001b[0m \u001b[1;32min\u001b[0m \u001b[0msublist\u001b[0m\u001b[1;33m]\u001b[0m\u001b[1;33m\u001b[0m\u001b[0m\n\u001b[0;32m      5\u001b[0m    \u001b[1;31m# print(flat_categories)\u001b[0m\u001b[1;33m\u001b[0m\u001b[1;33m\u001b[0m\u001b[0m\n",
      "\u001b[1;31mNameError\u001b[0m: name 'product_similar_dict' is not defined"
     ]
    }
   ],
   "source": [
    "for product in extra_level1_products:\n",
    "    print(product)\n",
    "    nested_categories= [find_category(x,products_level1) for x in product_similar_dict[product]]\n",
    "    flat_categories = [item for sublist in nested_categories for item in sublist]\n",
    "   # print(flat_categories)\n",
    "    most_commons= Counter(flat_categories).most_common(5)\n",
    "    print(most_commons)\n",
    "    "
   ]
  },
  {
   "cell_type": "code",
   "execution_count": 19,
   "metadata": {},
   "outputs": [],
   "source": [
    "file_category_results = open(\"ExtraProducts__category.txt\",\"w\")\n",
    "count=0\n",
    "\n",
    "extra_levels_products=[(extra_level1_products,products_level1),(extra_level2_products,products_level2),(extra_level3_products,products_level3),\\\n",
    "                       (extra_level4_products,products_level4),(extra_level5_products,products_level5)]\n",
    "for level in extra_levels_products:\n",
    "    for product in level[0]:\n",
    "        nested_categories= [find_category(x,level[1]) for x in product_similar_dict[product]]\n",
    "        flat_categories = [item for sublist in nested_categories for item in sublist]\n",
    "       # print(flat_categories)\n",
    "        most_commons= Counter(flat_categories).most_common(5)\n",
    "        for m in most_commons:\n",
    "            if m[1] > 5 and m[0]!=0:\n",
    "                file_category_results.write(\"ProductID:{0}    CategoryID:{1}   Name:{2}              {3}\\n\".format(product,m[0],\\\n",
    "                category_data.loc[m[0]]['Name'],category_data.loc[m[0]]['d']))\n",
    "                count+=1\n",
    "file_category_results.close()"
   ]
  },
  {
   "cell_type": "code",
   "execution_count": 20,
   "metadata": {},
   "outputs": [
    {
     "name": "stdout",
     "output_type": "stream",
     "text": [
      "873\n"
     ]
    }
   ],
   "source": [
    "print(count)"
   ]
  },
  {
   "cell_type": "code",
   "execution_count": 21,
   "metadata": {},
   "outputs": [
    {
     "ename": "KeyboardInterrupt",
     "evalue": "",
     "output_type": "error",
     "traceback": [
      "\u001b[1;31m---------------------------------------------------------------------------\u001b[0m",
      "\u001b[1;31mKeyboardInterrupt\u001b[0m                         Traceback (most recent call last)",
      "\u001b[1;32m<ipython-input-21-fdda654c521e>\u001b[0m in \u001b[0;36m<module>\u001b[1;34m()\u001b[0m\n\u001b[0;32m      4\u001b[0m \u001b[1;33m\u001b[0m\u001b[0m\n\u001b[0;32m      5\u001b[0m \u001b[1;32mfor\u001b[0m \u001b[0mproduct\u001b[0m \u001b[1;32min\u001b[0m \u001b[0mproduct_attr\u001b[0m\u001b[1;33m.\u001b[0m\u001b[0mindex\u001b[0m\u001b[1;33m.\u001b[0m\u001b[0mvalues\u001b[0m\u001b[1;33m.\u001b[0m\u001b[0mtolist\u001b[0m\u001b[1;33m(\u001b[0m\u001b[1;33m)\u001b[0m\u001b[1;33m:\u001b[0m\u001b[1;33m\u001b[0m\u001b[0m\n\u001b[1;32m----> 6\u001b[1;33m     \u001b[0mnested_categories\u001b[0m\u001b[1;33m=\u001b[0m \u001b[1;33m[\u001b[0m\u001b[0mfind_category\u001b[0m\u001b[1;33m(\u001b[0m\u001b[0mx\u001b[0m\u001b[1;33m,\u001b[0m\u001b[0mproducts_OldCategories\u001b[0m\u001b[1;33m)\u001b[0m \u001b[1;32mfor\u001b[0m \u001b[0mx\u001b[0m \u001b[1;32min\u001b[0m \u001b[0mproduct_similar_dict\u001b[0m\u001b[1;33m[\u001b[0m\u001b[0mproduct\u001b[0m\u001b[1;33m]\u001b[0m\u001b[1;33m]\u001b[0m\u001b[1;33m\u001b[0m\u001b[0m\n\u001b[0m\u001b[0;32m      7\u001b[0m     \u001b[0mflat_categories\u001b[0m \u001b[1;33m=\u001b[0m \u001b[1;33m[\u001b[0m\u001b[0mitem\u001b[0m \u001b[1;32mfor\u001b[0m \u001b[0msublist\u001b[0m \u001b[1;32min\u001b[0m \u001b[0mnested_categories\u001b[0m \u001b[1;32mfor\u001b[0m \u001b[0mitem\u001b[0m \u001b[1;32min\u001b[0m \u001b[0msublist\u001b[0m\u001b[1;33m]\u001b[0m\u001b[1;33m\u001b[0m\u001b[0m\n\u001b[0;32m      8\u001b[0m    \u001b[1;31m# print(flat_categories)\u001b[0m\u001b[1;33m\u001b[0m\u001b[1;33m\u001b[0m\u001b[0m\n",
      "\u001b[1;32m<ipython-input-21-fdda654c521e>\u001b[0m in \u001b[0;36m<listcomp>\u001b[1;34m(.0)\u001b[0m\n\u001b[0;32m      4\u001b[0m \u001b[1;33m\u001b[0m\u001b[0m\n\u001b[0;32m      5\u001b[0m \u001b[1;32mfor\u001b[0m \u001b[0mproduct\u001b[0m \u001b[1;32min\u001b[0m \u001b[0mproduct_attr\u001b[0m\u001b[1;33m.\u001b[0m\u001b[0mindex\u001b[0m\u001b[1;33m.\u001b[0m\u001b[0mvalues\u001b[0m\u001b[1;33m.\u001b[0m\u001b[0mtolist\u001b[0m\u001b[1;33m(\u001b[0m\u001b[1;33m)\u001b[0m\u001b[1;33m:\u001b[0m\u001b[1;33m\u001b[0m\u001b[0m\n\u001b[1;32m----> 6\u001b[1;33m     \u001b[0mnested_categories\u001b[0m\u001b[1;33m=\u001b[0m \u001b[1;33m[\u001b[0m\u001b[0mfind_category\u001b[0m\u001b[1;33m(\u001b[0m\u001b[0mx\u001b[0m\u001b[1;33m,\u001b[0m\u001b[0mproducts_OldCategories\u001b[0m\u001b[1;33m)\u001b[0m \u001b[1;32mfor\u001b[0m \u001b[0mx\u001b[0m \u001b[1;32min\u001b[0m \u001b[0mproduct_similar_dict\u001b[0m\u001b[1;33m[\u001b[0m\u001b[0mproduct\u001b[0m\u001b[1;33m]\u001b[0m\u001b[1;33m]\u001b[0m\u001b[1;33m\u001b[0m\u001b[0m\n\u001b[0m\u001b[0;32m      7\u001b[0m     \u001b[0mflat_categories\u001b[0m \u001b[1;33m=\u001b[0m \u001b[1;33m[\u001b[0m\u001b[0mitem\u001b[0m \u001b[1;32mfor\u001b[0m \u001b[0msublist\u001b[0m \u001b[1;32min\u001b[0m \u001b[0mnested_categories\u001b[0m \u001b[1;32mfor\u001b[0m \u001b[0mitem\u001b[0m \u001b[1;32min\u001b[0m \u001b[0msublist\u001b[0m\u001b[1;33m]\u001b[0m\u001b[1;33m\u001b[0m\u001b[0m\n\u001b[0;32m      8\u001b[0m    \u001b[1;31m# print(flat_categories)\u001b[0m\u001b[1;33m\u001b[0m\u001b[1;33m\u001b[0m\u001b[0m\n",
      "\u001b[1;32m<ipython-input-17-09538c2259c4>\u001b[0m in \u001b[0;36mfind_category\u001b[1;34m(p, products_level)\u001b[0m\n\u001b[0;32m      1\u001b[0m \u001b[1;32mdef\u001b[0m \u001b[0mfind_category\u001b[0m\u001b[1;33m(\u001b[0m\u001b[0mp\u001b[0m\u001b[1;33m,\u001b[0m\u001b[0mproducts_level\u001b[0m\u001b[1;33m)\u001b[0m\u001b[1;33m:\u001b[0m\u001b[1;33m\u001b[0m\u001b[0m\n\u001b[0;32m      2\u001b[0m     \u001b[1;32mif\u001b[0m \u001b[0mp\u001b[0m \u001b[1;32min\u001b[0m \u001b[0mproducts_level\u001b[0m\u001b[1;33m[\u001b[0m\u001b[1;34m'ProductID'\u001b[0m\u001b[1;33m]\u001b[0m\u001b[1;33m.\u001b[0m\u001b[0mvalues\u001b[0m\u001b[1;33m.\u001b[0m\u001b[0mtolist\u001b[0m\u001b[1;33m(\u001b[0m\u001b[1;33m)\u001b[0m\u001b[1;33m:\u001b[0m\u001b[1;33m\u001b[0m\u001b[0m\n\u001b[1;32m----> 3\u001b[1;33m         \u001b[0mdf\u001b[0m\u001b[1;33m=\u001b[0m\u001b[0mproducts_level\u001b[0m\u001b[1;33m[\u001b[0m\u001b[0mproducts_level\u001b[0m\u001b[1;33m[\u001b[0m\u001b[1;34m'ProductID'\u001b[0m\u001b[1;33m]\u001b[0m\u001b[1;33m==\u001b[0m\u001b[0mp\u001b[0m\u001b[1;33m]\u001b[0m\u001b[1;33m\u001b[0m\u001b[0m\n\u001b[0m\u001b[0;32m      4\u001b[0m         \u001b[1;32mreturn\u001b[0m \u001b[0mdf\u001b[0m\u001b[1;33m[\u001b[0m\u001b[1;34m'CategoryID'\u001b[0m\u001b[1;33m]\u001b[0m\u001b[1;33m.\u001b[0m\u001b[0mvalues\u001b[0m\u001b[1;33m.\u001b[0m\u001b[0mtolist\u001b[0m\u001b[1;33m(\u001b[0m\u001b[1;33m)\u001b[0m\u001b[1;33m\u001b[0m\u001b[0m\n\u001b[0;32m      5\u001b[0m     \u001b[1;32melse\u001b[0m\u001b[1;33m:\u001b[0m\u001b[1;33m\u001b[0m\u001b[0m\n",
      "\u001b[1;32m~\\AppData\\Local\\Continuum\\anaconda3\\lib\\site-packages\\pandas\\core\\ops.py\u001b[0m in \u001b[0;36mwrapper\u001b[1;34m(self, other, axis)\u001b[0m\n\u001b[0;32m   1251\u001b[0m \u001b[1;33m\u001b[0m\u001b[0m\n\u001b[0;32m   1252\u001b[0m             \u001b[1;32mwith\u001b[0m \u001b[0mnp\u001b[0m\u001b[1;33m.\u001b[0m\u001b[0merrstate\u001b[0m\u001b[1;33m(\u001b[0m\u001b[0mall\u001b[0m\u001b[1;33m=\u001b[0m\u001b[1;34m'ignore'\u001b[0m\u001b[1;33m)\u001b[0m\u001b[1;33m:\u001b[0m\u001b[1;33m\u001b[0m\u001b[0m\n\u001b[1;32m-> 1253\u001b[1;33m                 \u001b[0mres\u001b[0m \u001b[1;33m=\u001b[0m \u001b[0mna_op\u001b[0m\u001b[1;33m(\u001b[0m\u001b[0mvalues\u001b[0m\u001b[1;33m,\u001b[0m \u001b[0mother\u001b[0m\u001b[1;33m)\u001b[0m\u001b[1;33m\u001b[0m\u001b[0m\n\u001b[0m\u001b[0;32m   1254\u001b[0m             \u001b[1;32mif\u001b[0m \u001b[0mis_scalar\u001b[0m\u001b[1;33m(\u001b[0m\u001b[0mres\u001b[0m\u001b[1;33m)\u001b[0m\u001b[1;33m:\u001b[0m\u001b[1;33m\u001b[0m\u001b[0m\n\u001b[0;32m   1255\u001b[0m                 raise TypeError('Could not compare {typ} type with Series'\n",
      "\u001b[1;32m~\\AppData\\Local\\Continuum\\anaconda3\\lib\\site-packages\\pandas\\core\\ops.py\u001b[0m in \u001b[0;36mna_op\u001b[1;34m(x, y)\u001b[0m\n\u001b[0;32m   1162\u001b[0m             \u001b[1;32mif\u001b[0m \u001b[0mmethod\u001b[0m \u001b[1;32mis\u001b[0m \u001b[1;32mnot\u001b[0m \u001b[1;32mNone\u001b[0m\u001b[1;33m:\u001b[0m\u001b[1;33m\u001b[0m\u001b[0m\n\u001b[0;32m   1163\u001b[0m                 \u001b[1;32mwith\u001b[0m \u001b[0mnp\u001b[0m\u001b[1;33m.\u001b[0m\u001b[0merrstate\u001b[0m\u001b[1;33m(\u001b[0m\u001b[0mall\u001b[0m\u001b[1;33m=\u001b[0m\u001b[1;34m'ignore'\u001b[0m\u001b[1;33m)\u001b[0m\u001b[1;33m:\u001b[0m\u001b[1;33m\u001b[0m\u001b[0m\n\u001b[1;32m-> 1164\u001b[1;33m                     \u001b[0mresult\u001b[0m \u001b[1;33m=\u001b[0m \u001b[0mmethod\u001b[0m\u001b[1;33m(\u001b[0m\u001b[0my\u001b[0m\u001b[1;33m)\u001b[0m\u001b[1;33m\u001b[0m\u001b[0m\n\u001b[0m\u001b[0;32m   1165\u001b[0m                 \u001b[1;32mif\u001b[0m \u001b[0mresult\u001b[0m \u001b[1;32mis\u001b[0m \u001b[0mNotImplemented\u001b[0m\u001b[1;33m:\u001b[0m\u001b[1;33m\u001b[0m\u001b[0m\n\u001b[0;32m   1166\u001b[0m                     \u001b[1;32mraise\u001b[0m \u001b[0mTypeError\u001b[0m\u001b[1;33m(\u001b[0m\u001b[1;34m\"invalid type comparison\"\u001b[0m\u001b[1;33m)\u001b[0m\u001b[1;33m\u001b[0m\u001b[0m\n",
      "\u001b[1;31mKeyboardInterrupt\u001b[0m: "
     ]
    }
   ],
   "source": [
    "file_category_results = open(\"Products_category_TFIDF_Cosine.txt\",\"w\")\n",
    "count_all=0\n",
    "\n",
    "\n",
    "for product in product_attr.index.values.tolist():\n",
    "    nested_categories= [find_category(x,products_OldCategories) for x in product_similar_dict[product]]\n",
    "    flat_categories = [item for sublist in nested_categories for item in sublist]\n",
    "   # print(flat_categories)\n",
    "    most_commons= Counter(flat_categories).most_common(10)\n",
    "    for m in most_commons:\n",
    "        if (m[1] > 6 and m[0]!=0 and ~(((products_OldCategories['ProductID']==product) & (products_OldCategories['CategoryID']==m[0])).any())):\n",
    "            file_category_results.write(\"ProductID:{0}    CategoryID:{1}   Name:{2}              {3}\\n\".format(product,m[0],\\\n",
    "            category_data.loc[m[0]]['Name'],category_data.loc[m[0]]['d']))\n",
    "            count_all+=1\n",
    "file_category_results.close()"
   ]
  },
  {
   "cell_type": "code",
   "execution_count": 15,
   "metadata": {},
   "outputs": [],
   "source": [
    "query3='''\n",
    "SELECT A.ProductID as ProductID, A.ParentCategoryID as CategoryID, B.level as level, B.d as d, B.Name as Name \n",
    "FROM `inventoryvelocity.input.product_parent_categories_relation` AS A\n",
    "Inner join `rec-serv.AutoSuggestion.category_data` AS B on A.ParentCategoryID=B.CategoryID\n",
    "WHERE B.CategoryID not in (1791,1738,1775)\n",
    "and B.ParentCategoryID in (101072)\n",
    "'''\n",
    "products_vitamins=pd.read_gbq(query3,p,dialect='standard')\n",
    "\n",
    "products_vitamins=products_vitamins[products_vitamins['ProductID'].isin(product_attr.index.values)]"
   ]
  },
  {
   "cell_type": "code",
   "execution_count": 16,
   "metadata": {},
   "outputs": [
    {
     "name": "stdout",
     "output_type": "stream",
     "text": [
      "[48609, 17417, 1308, 3950, 50076, 37670, 73747, 32551, 80889, 59913]\n"
     ]
    }
   ],
   "source": [
    "print(product_similar_dict[8422])\n",
    "nested_categories= [find_category(x,products_vitamins) for x in product_similar_dict[8422]]"
   ]
  },
  {
   "cell_type": "code",
   "execution_count": null,
   "metadata": {},
   "outputs": [],
   "source": []
  }
 ],
 "metadata": {
  "kernelspec": {
   "display_name": "Python 3",
   "language": "python",
   "name": "python3"
  },
  "language_info": {
   "codemirror_mode": {
    "name": "ipython",
    "version": 3
   },
   "file_extension": ".py",
   "mimetype": "text/x-python",
   "name": "python",
   "nbconvert_exporter": "python",
   "pygments_lexer": "ipython3",
   "version": "3.6.5"
  }
 },
 "nbformat": 4,
 "nbformat_minor": 2
}
